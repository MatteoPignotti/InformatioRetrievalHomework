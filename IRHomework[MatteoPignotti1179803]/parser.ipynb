{
 "cells": [
  {
   "cell_type": "code",
   "execution_count": 7,
   "metadata": {},
   "outputs": [],
   "source": [
    "import re\n",
    "import pandas as pd\n",
    "from smart_open import smart_open\n",
    "\n",
    "rx_dict = {\n",
    "  'map' : re.compile(r'map\\s+(?P<topic>\\d+)\\s+(?P<value>.*)\\n'),\n",
    "  'prec': re.compile(r'Rprec\\s+(?P<topic>\\d+)\\s+(?P<value>.*)\\n'),\n",
    "  'p10' : re.compile(r'P_10\\s+(?P<topic>\\d+)\\s+(?P<value>.*)\\n')\n",
    "}\n",
    "\n",
    "def _parse_line(line):\n",
    "  for key, rx in rx_dict.items():\n",
    "    match = rx.search(line)\n",
    "    if match:\n",
    "      return key, match\n",
    "  return None, None\n",
    "\n",
    "def parse_file(filepath):\n",
    "  data = []\n",
    "  with smart_open(filepath, 'r') as file_object:\n",
    "    record = {}\n",
    "    for line in file_object:\n",
    "      key, match = _parse_line(line) \n",
    "      if match is None:\n",
    "        continue\n",
    "      topic = int(match.group('topic'))\n",
    "      if bool(record.get('topic')) and record.get('topic') != topic:\n",
    "        data.append(record.copy()) \n",
    "      record['topic'] = topic\n",
    "      value = float(match.group('value'))\n",
    "      if key == 'map':\n",
    "        record['AP'] = value\n",
    "      elif key == 'prec':\n",
    "        record['prec'] = value\n",
    "      elif key == 'p10':\n",
    "        record['p10'] = value\n",
    "    if bool(record): data.append(record.copy())\n",
    "    data = pd.DataFrame(data, columns=['topic', 'AP', 'prec', 'p10'])\n",
    "    data.set_index('topic', inplace=True)\n",
    "    return data"
   ]
  },
  {
   "cell_type": "code",
   "execution_count": 13,
   "metadata": {},
   "outputs": [
    {
     "name": "stdout",
     "output_type": "stream",
     "text": [
      "[0.0255, 0.0, 0.0346, 0.0044, 0.0118, 0.0005, 0.0, 0.0452, 0.007, 0.073, 0.0054, 0.0173, 0.0106, 0.0275, 0.0293, 0.034, 0.0072, 0.0237, 0.0012, 0.0001, 0.0029, 0.0149, 0.0025, 0.0934, 0.0098, 0.0005, 0.0296, 0.0, 0.0076, 0.0036, 0.0001, 0.0077, 0.0039, 0.0001, 0.0257, 0.0053, 0.0512, 0.033, 0.0017, 0.0296, 0.0, 0.0034, 0.0028, 0.0015, 0.0068, 0.0133, 0.0148, 0.0008, 0.0077, 0.0816]\n"
     ]
    }
   ],
   "source": [
    "a=parse_file('C:\\\\Users\\Matteo\\Desktop\\IR\\BM25 PS & NSL\\BM25.txt');\n",
    "print(list(a['AP']))"
   ]
  },
  {
   "cell_type": "code",
   "execution_count": null,
   "metadata": {},
   "outputs": [],
   "source": []
  },
  {
   "cell_type": "code",
   "execution_count": null,
   "metadata": {},
   "outputs": [],
   "source": []
  }
 ],
 "metadata": {
  "kernelspec": {
   "display_name": "Python 3",
   "language": "python",
   "name": "python3"
  },
  "language_info": {
   "codemirror_mode": {
    "name": "ipython",
    "version": 3
   },
   "file_extension": ".py",
   "mimetype": "text/x-python",
   "name": "python",
   "nbconvert_exporter": "python",
   "pygments_lexer": "ipython3",
   "version": "3.7.1"
  }
 },
 "nbformat": 4,
 "nbformat_minor": 2
}
